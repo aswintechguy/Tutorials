{
 "cells": [
  {
   "cell_type": "code",
   "execution_count": 5,
   "metadata": {},
   "outputs": [],
   "source": [
    "import threading\n",
    "import time"
   ]
  },
  {
   "cell_type": "code",
   "execution_count": 8,
   "metadata": {},
   "outputs": [],
   "source": [
    "def counter(thread_name, n, delay):\n",
    "    i = 1\n",
    "    while i <= n:\n",
    "        time.sleep(delay)\n",
    "        print(thread_name, i)\n",
    "        i += 1\n",
    "    print(thread_name, \"Completed\")"
   ]
  },
  {
   "cell_type": "code",
   "execution_count": 9,
   "metadata": {},
   "outputs": [],
   "source": [
    "thread1 = threading.Thread(target=counter, args=('Thread 1', 10, 2))\n",
    "thread2 = threading.Thread(target=counter, args=('Thread 2', 5, 1))"
   ]
  },
  {
   "cell_type": "code",
   "execution_count": 10,
   "metadata": {},
   "outputs": [
    {
     "name": "stdout",
     "output_type": "stream",
     "text": [
      "Main Program Completed\n",
      "Thread 2 1\n",
      "Thread 1 1\n",
      "Thread 2 2\n",
      "Thread 2 3\n",
      "Thread 1 2\n",
      "Thread 2 4\n",
      "Thread 2 5\n",
      "Thread 2 Completed\n",
      "Thread 1 3\n",
      "Thread 1 4\n",
      "Thread 1 5\n",
      "Thread 1 6\n",
      "Thread 1 7\n",
      "Thread 1 8\n",
      "Thread 1 9\n",
      "Thread 1 10\n",
      "Thread 1 Completed\n"
     ]
    }
   ],
   "source": [
    "thread1.start()\n",
    "thread2.start()\n",
    "print(\"Main Program Completed\")"
   ]
  },
  {
   "cell_type": "markdown",
   "metadata": {},
   "source": [
    "## Execute Threads in Order"
   ]
  },
  {
   "cell_type": "code",
   "execution_count": 14,
   "metadata": {},
   "outputs": [],
   "source": [
    "def counter(thread_name, n, delay):\n",
    "    i = 1\n",
    "    thread_lock.acquire()\n",
    "    print('Acquiring Lock')\n",
    "    while i <= n:\n",
    "        time.sleep(delay)\n",
    "        print(thread_name, i)\n",
    "        i += 1\n",
    "    print(thread_name, \"Completed\")\n",
    "    thread_lock.release()\n",
    "    print('Releasing Lock')"
   ]
  },
  {
   "cell_type": "code",
   "execution_count": 15,
   "metadata": {},
   "outputs": [],
   "source": [
    "thread1 = threading.Thread(target=counter, args=('Thread 1', 10, 0.5))\n",
    "thread2 = threading.Thread(target=counter, args=('Thread 2', 5, 0.5))"
   ]
  },
  {
   "cell_type": "code",
   "execution_count": 16,
   "metadata": {},
   "outputs": [],
   "source": [
    "# access thread locks\n",
    "thread_lock = threading.Lock()"
   ]
  },
  {
   "cell_type": "code",
   "execution_count": 17,
   "metadata": {},
   "outputs": [
    {
     "name": "stdout",
     "output_type": "stream",
     "text": [
      "Acquiring Lock\n",
      "Thread 1 1\n",
      "Thread 1 2\n",
      "Thread 1 3\n",
      "Thread 1 4\n",
      "Thread 1 5\n",
      "Thread 1 6\n",
      "Thread 1 7\n",
      "Thread 1 8\n",
      "Thread 1 9\n",
      "Thread 1 10\n",
      "Thread 1 Completed\n",
      "Releasing LockAcquiring Lock\n",
      "\n",
      "Thread 2 1\n",
      "Thread 2 2\n",
      "Thread 2 3\n",
      "Thread 2 4\n",
      "Thread 2 5\n",
      "Thread 2 Completed\n",
      "Releasing Lock\n",
      "Main Program Completed\n"
     ]
    }
   ],
   "source": [
    "# start the threads\n",
    "thread1.start()\n",
    "thread2.start()\n",
    "\n",
    "# wait until all threads finish\n",
    "thread1.join()\n",
    "thread2.join()\n",
    "\n",
    "print(\"Main Program Completed\")"
   ]
  },
  {
   "cell_type": "code",
   "execution_count": null,
   "metadata": {},
   "outputs": [],
   "source": []
  }
 ],
 "metadata": {
  "kernelspec": {
   "display_name": "Python 3",
   "language": "python",
   "name": "python3"
  },
  "language_info": {
   "codemirror_mode": {
    "name": "ipython",
    "version": 3
   },
   "file_extension": ".py",
   "mimetype": "text/x-python",
   "name": "python",
   "nbconvert_exporter": "python",
   "pygments_lexer": "ipython3",
   "version": "3.8.3"
  }
 },
 "nbformat": 4,
 "nbformat_minor": 4
}
